{
 "cells": [
  {
   "cell_type": "code",
   "execution_count": null,
   "id": "f320a831-0ce9-4d1d-a7a6-4a50d1547a5b",
   "metadata": {},
   "outputs": [],
   "source": [
    "import os\n",
    "import requests\n",
    "import json\n",
    "from typing import List\n",
    "from dotenv import load_dotenv\n",
    "from bs4 import BeautifulSoup\n",
    "from IPython.display import Markdown, display, update_display\n",
    "from openai import OpenAI"
   ]
  },
  {
   "cell_type": "code",
   "execution_count": null,
   "id": "644e5c09-fb98-476b-aedc-9a80a823b9c1",
   "metadata": {},
   "outputs": [],
   "source": [
    "# Initialize and constants\n",
    "\n",
    "load_dotenv(override=True)\n",
    "api_key = os.getenv('OPENAI_API_KEY')\n",
    "\n",
    "if api_key and api_key.startswith('sk-proj-') and len(api_key)>10:\n",
    "    print(\"API key looks good so far\")\n",
    "else:\n",
    "    print(\"There might be a problem with your API key? Please visit the troubleshooting notebook!\")\n",
    "    \n",
    "MODEL = 'gpt-4o-mini'\n",
    "openai = OpenAI()"
   ]
  },
  {
   "cell_type": "code",
   "execution_count": null,
   "id": "3edfe4e9-3f73-496b-8722-c3b76a1e6710",
   "metadata": {},
   "outputs": [],
   "source": [
    "import requests\n",
    "headers = {\n",
    " \"User-Agent\": \"Mozilla/5.0 (Windows NT 10.0; Win64; x64) AppleWebKit/537.36 (KHTML, like Gecko) Chrome/117.0.0.0 Safari/537.36\"\n",
    "}\n",
    "\n",
    "class Website:\n",
    "    def __init__(self, url):\n",
    "        self.url = url\n",
    "        response = requests.get(url, headers=headers)\n",
    "        self.body = response.content\n",
    "        soup = BeautifulSoup(self.body, 'html.parser')\n",
    "        self.title = soup.title.string if soup.title else \"No title found\"\n",
    "        print(self.title)\n",
    "        if soup.body:\n",
    "            for irrelevant in soup.body([\"style\",\"script\",\"img\",\"input\"]):\n",
    "                irrelevant.decompose()\n",
    "            self.text = soup.body.get_text(separator='\\n',strip=True)\n",
    "        else:\n",
    "            self.text=\"\"\n",
    "        links = [link.get('href') for link in soup.find_all('a')]\n",
    "        self.links = [link for link in links if link]\n",
    "\n",
    "    def get_contents(self):\n",
    "        return f\"WebPage Title:\\n{self.title}\\nWebPage Contents:\\n{self.text}\\n\\n\""
   ]
  },
  {
   "cell_type": "code",
   "execution_count": null,
   "id": "6a14042f-ff6e-43d8-9484-13fb5df5c413",
   "metadata": {},
   "outputs": [],
   "source": [
    "ed=Website(\"https://www.youtube.com/\")\n",
    "ed.links"
   ]
  },
  {
   "cell_type": "code",
   "execution_count": null,
   "id": "16d3bed7-3853-4aa7-a5be-f551d26fbf0b",
   "metadata": {},
   "outputs": [],
   "source": [
    "print(ed.get_contents())"
   ]
  },
  {
   "cell_type": "code",
   "execution_count": null,
   "id": "18b7da3b-5221-41ec-b160-92f49854f063",
   "metadata": {},
   "outputs": [],
   "source": [
    "link_system_prompt = \"You are provided with a list of links found on a webpage. \\\n",
    "You are able to decide which of the links would be most relevant to include in a brochure about the company, \\\n",
    "such as links to an About page, or a Company page, or Careers/Jobs pages.\\n\"\n",
    "link_system_prompt += \"You should respond in JSON as in this example:\"\n",
    "link_system_prompt += \"\"\"\n",
    "{\n",
    "    \"links\": [\n",
    "        {\"type\": \"about page\", \"url\": \"https://full.url/goes/here/about\"},\n",
    "        {\"type\": \"careers page\": \"url\": \"https://another.full.url/careers\"}\n",
    "    ]\n",
    "}\n",
    "\"\"\""
   ]
  },
  {
   "cell_type": "code",
   "execution_count": null,
   "id": "c4dd5102-abb8-4a68-9357-f90b48ecd920",
   "metadata": {},
   "outputs": [],
   "source": [
    "print(link_system_prompt)"
   ]
  },
  {
   "cell_type": "code",
   "execution_count": null,
   "id": "03fc30c1-7da8-432d-9bcc-d95fdd179d47",
   "metadata": {},
   "outputs": [],
   "source": [
    "def get_links_user_prompt(website):\n",
    "    user_prompt = f\"Here is the list of links on the website of {website.url} - \"\n",
    "    user_prompt += \"please decide which of these are relevant web links for a brochure about the company, respond with the full https URL in JSON format. \\\n",
    "Do not include Terms of Service, Privacy, email links.\\n\"\n",
    "    user_prompt += \"Links (some might be relative links):\\n\"\n",
    "    user_prompt += \"\\n\".join(website.links)\n",
    "    return user_prompt"
   ]
  },
  {
   "cell_type": "code",
   "execution_count": null,
   "id": "c54a2314-ac42-4075-96d5-1fcf5e219827",
   "metadata": {},
   "outputs": [],
   "source": [
    "print(get_links_user_prompt(ed))"
   ]
  },
  {
   "cell_type": "code",
   "execution_count": null,
   "id": "dfb5413b-4098-47b7-8a73-f1c1ce850629",
   "metadata": {},
   "outputs": [],
   "source": [
    "def get_links(url):\n",
    "    website = Website(url)\n",
    "    response = openai.chat.completions.create(\n",
    "    model = MODEL,\n",
    "    messages=[\n",
    "    {\"role\": \"system\", \"content\": link_system_prompt},\n",
    "     {\"role\": \"user\", \"content\": get_links_user_prompt(website)}],\n",
    "    response_format={\"type\": \"json_object\"}\n",
    "    )\n",
    "    result = response.choices[0].message.content\n",
    "    return json.loads(result)"
   ]
  },
  {
   "cell_type": "code",
   "execution_count": null,
   "id": "6e0f337d-16ed-49db-b4aa-93eeca1d7682",
   "metadata": {},
   "outputs": [],
   "source": [
    "# Anthropic has made their site harder to scrape, so I'm using HuggingFace..\n",
    "\n",
    "huggingface = Website(\"https://www.youtube.com/\")\n",
    "huggingface.links"
   ]
  },
  {
   "cell_type": "code",
   "execution_count": null,
   "id": "72130273-578f-4f8b-9f2e-92fef38477ca",
   "metadata": {},
   "outputs": [],
   "source": [
    "links=get_links(\"https://www.youtube.com/\")"
   ]
  },
  {
   "cell_type": "code",
   "execution_count": null,
   "id": "5f2bb48b-d5e6-4315-a867-d30ee9d67dc6",
   "metadata": {},
   "outputs": [],
   "source": [
    "links[\"links\"]"
   ]
  },
  {
   "cell_type": "code",
   "execution_count": null,
   "id": "759ebce6-1b8c-47a4-bbfc-2e90a7f2fa01",
   "metadata": {},
   "outputs": [],
   "source": [
    "def get_all_details(url):\n",
    "    result = \"Landing Page: \\n\"\n",
    "    result+= Website(url).get_contents()\n",
    "    links = get_links(url)\n",
    "    print(\"Found Links:\",links)\n",
    "    for link in links[\"links\"]:\n",
    "        result += f\"\\n\\n{link['type']}\\n\"\n",
    "        result += Website(link[\"url\"]).get_contents()\n",
    "    return result"
   ]
  },
  {
   "cell_type": "code",
   "execution_count": null,
   "id": "d4aa2423-f33a-4dfb-a740-54db6ca6321c",
   "metadata": {},
   "outputs": [],
   "source": [
    "# print(get_all_details(\"https://www.youtube.com/\"))"
   ]
  },
  {
   "cell_type": "code",
   "execution_count": null,
   "id": "6da4f3bb-f871-4c2d-8678-503c2ab1f8ba",
   "metadata": {},
   "outputs": [],
   "source": [
    "system_prompt = \"You are an assistant that analyzes the contents of several relevant pages from a company website \\\n",
    "and creates a short brochure about the company for prospective customers, investors and recruits. Respond in markdown.\\\n",
    "Include details of company cul ture, customers and careers/jobs if you have the information.\"\n",
    "\n",
    "\n",
    "# humorus tone:\n",
    "# system_prompt = \"You are an assistant that analyzes the contents of several relevant pages from a company website \\\n",
    "# and creates a short humorous, entertaining, jokey brochure about the company for prospective customers, investors and recruits. Respond in markdown.\\\n",
    "# Include details of company culture, customers and careers/jobs if you have the information.\"\n"
   ]
  },
  {
   "cell_type": "code",
   "execution_count": null,
   "id": "55cec174-87f8-4626-90b3-05ffd2647ff3",
   "metadata": {},
   "outputs": [],
   "source": [
    "def get_brochure_user_prompt(company_name, url):\n",
    "    user_prompt = f\"You are looking at a company called: {company_name}\\n\"\n",
    "    user_prompt += f\"Here are the contents of its landing page and other relevant pages; use this information to build a short brochure of the company in markdown.\\n\"\n",
    "    user_prompt += get_all_details(url)\n",
    "    user_prompt = user_prompt[:5_000] # Truncate if more than 5,000 characters\n",
    "    return user_prompt"
   ]
  },
  {
   "cell_type": "code",
   "execution_count": null,
   "id": "24ed59ae-a598-4632-ac1e-ffc0e9f9d596",
   "metadata": {},
   "outputs": [],
   "source": [
    "# print(get_brochure_user_prompt(\"Youtube\",\"https://www.youtube.com/\"))"
   ]
  },
  {
   "cell_type": "code",
   "execution_count": null,
   "id": "4bd7ee6c-389f-42c4-9a92-807ad427db1f",
   "metadata": {},
   "outputs": [],
   "source": [
    "def create_brochure(company_name,url):\n",
    "    response = openai.chat.completions.create(\n",
    "        model = MODEL,\n",
    "        messages=[\n",
    "            {\"role\":\"system\",\"content\": system_prompt},\n",
    "            {\"role\":\"user\",\"content\": get_brochure_user_prompt(company_name, url)}\n",
    "        ],\n",
    "    )\n",
    "    result = response.choices[0].message.content\n",
    "    display(Markdown(result))"
   ]
  },
  {
   "cell_type": "code",
   "execution_count": null,
   "id": "de9c9eed-ac37-46b1-91cb-62520cd7134b",
   "metadata": {},
   "outputs": [],
   "source": [
    "create_brochure(\"Ola\",\"https://www.youtube.com/\")"
   ]
  },
  {
   "cell_type": "code",
   "execution_count": null,
   "id": "b100e289-2ed5-44cc-ace7-6c006ec83cb5",
   "metadata": {},
   "outputs": [],
   "source": [
    "def stream_brochure(company_name, url):\n",
    "    stream = openai.chat.completions.create(\n",
    "        model=MODEL,\n",
    "        messages=[\n",
    "            {\"role\": \"system\", \"content\": system_prompt},\n",
    "            {\"role\": \"user\", \"content\": get_brochure_user_prompt(company_name, url)}\n",
    "          ],\n",
    "        stream=True\n",
    "    )\n",
    "    \n",
    "    response = \"\"\n",
    "    display_handle = display(Markdown(\"\"), display_id=True)\n",
    "    for chunk in stream:\n",
    "        response += chunk.choices[0].delta.content or ''\n",
    "        response = response.replace(\"```\",\"\").replace(\"markdown\", \"\")\n",
    "        update_display(Markdown(response), display_id=display_handle.display_id)"
   ]
  },
  {
   "cell_type": "code",
   "execution_count": null,
   "id": "599e1eb4-4c99-4472-b6ff-dae86e4ef925",
   "metadata": {},
   "outputs": [],
   "source": [
    "stream_brochure(\"Youtube\", \"https://www.youtube.com\")"
   ]
  },
  {
   "cell_type": "code",
   "execution_count": null,
   "id": "e4f359b4-bd86-4f52-963c-69c9e9428cf5",
   "metadata": {},
   "outputs": [],
   "source": []
  }
 ],
 "metadata": {
  "kernelspec": {
   "display_name": "Python 3 (ipykernel)",
   "language": "python",
   "name": "python3"
  },
  "language_info": {
   "codemirror_mode": {
    "name": "ipython",
    "version": 3
   },
   "file_extension": ".py",
   "mimetype": "text/x-python",
   "name": "python",
   "nbconvert_exporter": "python",
   "pygments_lexer": "ipython3",
   "version": "3.11.11"
  }
 },
 "nbformat": 4,
 "nbformat_minor": 5
}
